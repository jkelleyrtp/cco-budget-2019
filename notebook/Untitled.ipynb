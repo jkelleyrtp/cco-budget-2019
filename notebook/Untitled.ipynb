{
 "cells": [
  {
   "cell_type": "code",
   "execution_count": null,
   "metadata": {},
   "outputs": [],
   "source": [
    "//https://docs.google.com/spreadsheets/d/e/2PACX-1vQpoUAQof587s3OQ0DIkquIo-FnBpiYWR_BMhcULRpjJzEw_3tqAMHgwXbkV2JO_cAvoILIYBQtfXNo/pub?output=csv"
   ]
  },
  {
   "cell_type": "code",
   "execution_count": 1,
   "metadata": {},
   "outputs": [
    {
     "ename": "SyntaxError",
     "evalue": "Unexpected token <",
     "output_type": "error",
     "traceback": [
      "evalmachine.<anonymous>:1",
      "<script src=\"https://d3js.org/d3.v5.min.js\"></script>",
      "^",
      "",
      "SyntaxError: Unexpected token <",
      "    at new Script (vm.js:79:7)",
      "    at createScript (vm.js:251:10)",
      "    at Object.runInThisContext (vm.js:303:10)",
      "    at run ([eval]:1002:15)",
      "    at onRunRequest ([eval]:829:18)",
      "    at onMessage ([eval]:789:13)",
      "    at process.emit (events.js:182:13)",
      "    at emit (internal/child_process.js:812:12)",
      "    at process._tickCallback (internal/process/next_tick.js:63:19)"
     ]
    }
   ],
   "source": [
    "<script src=\"https://d3js.org/d3.v5.min.js\"></script>\n"
   ]
  },
  {
   "cell_type": "code",
   "execution_count": null,
   "metadata": {},
   "outputs": [],
   "source": [
    "d3.csv(\"/data/cities.csv\", function(data) {\n",
    "  console.log(data[0]);\n",
    "});"
   ]
  }
 ],
 "metadata": {
  "kernelspec": {
   "display_name": "Javascript (Node.js)",
   "language": "javascript",
   "name": "javascript"
  },
  "language_info": {
   "file_extension": ".js",
   "mimetype": "application/javascript",
   "name": "javascript",
   "version": "10.11.0"
  }
 },
 "nbformat": 4,
 "nbformat_minor": 2
}
